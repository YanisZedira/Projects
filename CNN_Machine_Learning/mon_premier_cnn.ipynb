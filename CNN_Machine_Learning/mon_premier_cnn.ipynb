{
  "nbformat": 4,
  "nbformat_minor": 0,
  "metadata": {
    "colab": {
      "provenance": [],
      "gpuType": "T4",
      "include_colab_link": true
    },
    "kernelspec": {
      "name": "python3",
      "display_name": "Python 3"
    },
    "language_info": {
      "name": "python"
    },
    "accelerator": "GPU"
  },
  "cells": [
    {
      "cell_type": "markdown",
      "metadata": {
        "id": "view-in-github",
        "colab_type": "text"
      },
      "source": [
        "<a href=\"https://colab.research.google.com/github/atea801/CNN_classification/blob/main/mon_premier_cnn.ipynb\" target=\"_parent\"><img src=\"https://colab.research.google.com/assets/colab-badge.svg\" alt=\"Open In Colab\"/></a>"
      ]
    },
    {
      "cell_type": "code",
      "execution_count": null,
      "metadata": {
        "id": "9xpUUeVWj62G"
      },
      "outputs": [],
      "source": [
        "import numpy\n",
        "from tensorflow import keras\n",
        "import matplotlib.pyplot as plt"
      ]
    },
    {
      "cell_type": "code",
      "source": [
        "(x_train, y_train), (x_test, y_test) = keras.datasets.mnist.load_data()"
      ],
      "metadata": {
        "colab": {
          "base_uri": "https://localhost:8080/"
        },
        "id": "rYjfBhzVk6jr",
        "outputId": "6d4805d0-c050-46b3-97a5-7d1a0ebf8ee6"
      },
      "execution_count": null,
      "outputs": [
        {
          "output_type": "stream",
          "name": "stdout",
          "text": [
            "Downloading data from https://storage.googleapis.com/tensorflow/tf-keras-datasets/mnist.npz\n",
            "11490434/11490434 [==============================] - 0s 0us/step\n"
          ]
        }
      ]
    },
    {
      "cell_type": "code",
      "source": [
        "plt.imshow(x_train[1010])\n",
        "plt.show()"
      ],
      "metadata": {
        "colab": {
          "base_uri": "https://localhost:8080/",
          "height": 430
        },
        "id": "S5E4Po5Yl0n9",
        "outputId": "ee8ea2b9-8303-4123-9e1c-b2b96a68476b"
      },
      "execution_count": null,
      "outputs": [
        {
          "output_type": "display_data",
          "data": {
            "text/plain": [
              "<Figure size 640x480 with 1 Axes>"
            ],
            "image/png": "[encoded data removed]"
          },
          "metadata": {}
        }
      ]
    },
    {
      "cell_type": "code",
      "source": [
        "print(y_train[1010])"
      ],
      "metadata": {
        "colab": {
          "base_uri": "https://localhost:8080/"
        },
        "id": "rAoZmTlOmxYn",
        "outputId": "e654789c-4024-4903-be76-75771edeba05"
      },
      "execution_count": null,
      "outputs": [
        {
          "output_type": "stream",
          "name": "stdout",
          "text": [
            "2\n"
          ]
        }
      ]
    },
    {
      "cell_type": "markdown",
      "source": [
        "# Data preparation"
      ],
      "metadata": {
        "id": "9yFLwoj9nXVT"
      }
    },
    {
      "cell_type": "code",
      "source": [
        "x_train = x_train.astype(\"float16\")/255\n",
        "x_test = x_test.astype(\"float16\")/255"
      ],
      "metadata": {
        "id": "6siOtp3VnfW6"
      },
      "execution_count": null,
      "outputs": []
    },
    {
      "cell_type": "code",
      "source": [
        "x_train[0].shape"
      ],
      "metadata": {
        "colab": {
          "base_uri": "https://localhost:8080/"
        },
        "id": "t_XMD8Eln63g",
        "outputId": "d4f298b2-9c68-4669-fa58-867d63d98e74"
      },
      "execution_count": null,
      "outputs": [
        {
          "output_type": "execute_result",
          "data": {
            "text/plain": [
              "(28, 28)"
            ]
          },
          "metadata": {},
          "execution_count": 6
        }
      ]
    },
    {
      "cell_type": "code",
      "source": [
        "# on va rajouter un canal à toutes les images pour que le Sequential (réseau de neurones puisse correctement gérer le shape des inputs)\n",
        "x_train = numpy.expand_dims(x_train, -1)\n",
        "x_test = numpy.expand_dims(x_test, -1)"
      ],
      "metadata": {
        "id": "SqrezSaPpPJX"
      },
      "execution_count": null,
      "outputs": []
    },
    {
      "cell_type": "code",
      "source": [
        "x_train[0].shape"
      ],
      "metadata": {
        "colab": {
          "base_uri": "https://localhost:8080/"
        },
        "id": "t9oFD02Gpiia",
        "outputId": "90a54ea0-ac03-4b60-945d-ad29121a79db"
      },
      "execution_count": null,
      "outputs": [
        {
          "output_type": "execute_result",
          "data": {
            "text/plain": [
              "(28, 28, 1)"
            ]
          },
          "metadata": {},
          "execution_count": 8
        }
      ]
    },
    {
      "cell_type": "code",
      "source": [
        "# one hot enconding\n",
        "y_train = keras.utils.to_categorical(y_train, 10)\n",
        "y_test = keras.utils.to_categorical(y_test, 10)"
      ],
      "metadata": {
        "id": "VEopOQiFp7XW"
      },
      "execution_count": null,
      "outputs": []
    },
    {
      "cell_type": "code",
      "source": [
        "y_train[1010]"
      ],
      "metadata": {
        "colab": {
          "base_uri": "https://localhost:8080/"
        },
        "id": "4j0lCRt3qw83",
        "outputId": "a419281d-4604-44ab-ef10-f843cc363b3f"
      },
      "execution_count": null,
      "outputs": [
        {
          "output_type": "execute_result",
          "data": {
            "text/plain": [
              "array([0., 0., 1., 0., 0., 0., 0., 0., 0., 0.], dtype=float32)"
            ]
          },
          "metadata": {},
          "execution_count": 10
        }
      ]
    },
    {
      "cell_type": "markdown",
      "source": [
        "# Créer le model CNN"
      ],
      "metadata": {
        "id": "rRKSMXlzrk_m"
      }
    },
    {
      "cell_type": "code",
      "source": [
        "mon_premier_cnn = keras.Sequential(\n",
        "    [\n",
        "        keras.Input(shape=(28, 28, 1)),\n",
        "        # encodeur\n",
        "        keras.layers.Conv2D(128, kernel_size=(2, 2), activation=\"relu\"),\n",
        "        keras.layers.MaxPool2D(pool_size=(2,2)),\n",
        "\n",
        "        keras.layers.Dropout(0.3),\n",
        "\n",
        "        keras.layers.Conv2D(64, kernel_size=(2, 2), activation=\"relu\"),\n",
        "        keras.layers.MaxPool2D(pool_size=(2,2)),\n",
        "\n",
        "        #connexion encodeur <-> classifier\n",
        "        keras.layers.Flatten(),\n",
        "\n",
        "        # Classifier\n",
        "        keras.layers.Dense(10, activation=\"softmax\") #softmax : plein de classes, sigmoid 2 : classes\n",
        "    ]\n",
        ")\n",
        "mon_premier_cnn.summary()"
      ],
      "metadata": {
        "colab": {
          "base_uri": "https://localhost:8080/"
        },
        "id": "UKRFlQhfrkl1",
        "outputId": "28876833-df26-4923-fe29-7f9d7b99f37c"
      },
      "execution_count": null,
      "outputs": [
        {
          "output_type": "stream",
          "name": "stdout",
          "text": [
            "Model: \"sequential_1\"\n",
            "_________________________________________________________________\n",
            " Layer (type)                Output Shape              Param #   \n",
            "=================================================================\n",
            " conv2d_2 (Conv2D)           (None, 27, 27, 128)       640       \n",
            "                                                                 \n",
            " max_pooling2d_2 (MaxPoolin  (None, 13, 13, 128)       0         \n",
            " g2D)                                                            \n",
            "                                                                 \n",
            " dropout_1 (Dropout)         (None, 13, 13, 128)       0         \n",
            "                                                                 \n",
            " conv2d_3 (Conv2D)           (None, 12, 12, 64)        32832     \n",
            "                                                                 \n",
            " max_pooling2d_3 (MaxPoolin  (None, 6, 6, 64)          0         \n",
            " g2D)                                                            \n",
            "                                                                 \n",
            " flatten_1 (Flatten)         (None, 2304)              0         \n",
            "                                                                 \n",
            " dense_1 (Dense)             (None, 10)                23050     \n",
            "                                                                 \n",
            "=================================================================\n",
            "Total params: 56522 (220.79 KB)\n",
            "Trainable params: 56522 (220.79 KB)\n",
            "Non-trainable params: 0 (0.00 Byte)\n",
            "_________________________________________________________________\n"
          ]
        }
      ]
    },
    {
      "cell_type": "code",
      "source": [
        "mon_premier_cnn.compile(loss=\"categorical_crossentropy\", optimizer=\"adam\", metrics=\"accuracy\")\n",
        "history = mon_premier_cnn.fit(x_train, y_train, batch_size=16, epochs=10)\n"
      ],
      "metadata": {
        "colab": {
          "base_uri": "https://localhost:8080/"
        },
        "id": "msIgRWe2v1dH",
        "outputId": "33887199-263e-4a8b-e55b-e1c289291952"
      },
      "execution_count": null,
      "outputs": [
        {
          "output_type": "stream",
          "name": "stdout",
          "text": [
            "Epoch 1/10\n",
            "3750/3750 [==============================] - 16s 4ms/step - loss: 0.1578 - accuracy: 0.9512\n",
            "Epoch 2/10\n",
            "3750/3750 [==============================] - 15s 4ms/step - loss: 0.0619 - accuracy: 0.9808\n",
            "Epoch 3/10\n",
            "3750/3750 [==============================] - 16s 4ms/step - loss: 0.0463 - accuracy: 0.9857\n",
            "Epoch 4/10\n",
            "3750/3750 [==============================] - 15s 4ms/step - loss: 0.0392 - accuracy: 0.9876\n",
            "Epoch 5/10\n",
            "3750/3750 [==============================] - 15s 4ms/step - loss: 0.0317 - accuracy: 0.9896\n",
            "Epoch 6/10\n",
            "3750/3750 [==============================] - 15s 4ms/step - loss: 0.0288 - accuracy: 0.9910\n",
            "Epoch 7/10\n",
            "3750/3750 [==============================] - 16s 4ms/step - loss: 0.0232 - accuracy: 0.9926\n",
            "Epoch 8/10\n",
            "3750/3750 [==============================] - 15s 4ms/step - loss: 0.0219 - accuracy: 0.9928\n",
            "Epoch 9/10\n",
            "3750/3750 [==============================] - 15s 4ms/step - loss: 0.0193 - accuracy: 0.9936\n",
            "Epoch 10/10\n",
            "3750/3750 [==============================] - 15s 4ms/step - loss: 0.0165 - accuracy: 0.9945\n"
          ]
        }
      ]
    },
    {
      "cell_type": "code",
      "source": [
        "plt.plot(history.history[\"loss\"])\n",
        "plt.show()"
      ],
      "metadata": {
        "colab": {
          "base_uri": "https://localhost:8080/",
          "height": 430
        },
        "id": "QkngCDxqyznQ",
        "outputId": "e6af77b4-0b28-4119-862b-b9fbfb187be2"
      },
      "execution_count": null,
      "outputs": [
        {
          "output_type": "display_data",
          "data": {
            "text/plain": [
              "<Figure size 640x480 with 1 Axes>"
            ],
            "image/png": "[encoded data removed]"
          },
          "metadata": {}
        }
      ]
    },
    {
      "cell_type": "code",
      "source": [
        "mon_premier_cnn.predict(x_test[numpy.newaxis, 1010])"
      ],
      "metadata": {
        "colab": {
          "base_uri": "https://localhost:8080/"
        },
        "id": "FA6zr1XNzPbA",
        "outputId": "35dd46b0-dc47-4b83-bd44-5da1d7adc73b"
      },
      "execution_count": null,
      "outputs": [
        {
          "output_type": "stream",
          "name": "stdout",
          "text": [
            "1/1 [==============================] - 0s 55ms/step\n"
          ]
        },
        {
          "output_type": "execute_result",
          "data": {
            "text/plain": [
              "array([[2.3345623e-20, 5.7987388e-14, 1.3227434e-15, 1.6396012e-14,\n",
              "        9.9999905e-01, 3.9141932e-12, 5.5910415e-19, 2.8069300e-09,\n",
              "        1.6694517e-09, 9.9770227e-07]], dtype=float32)"
            ]
          },
          "metadata": {},
          "execution_count": 21
        }
      ]
    },
    {
      "cell_type": "code",
      "source": [
        "mon_premier_cnn.save(\"mon_premier_cnn.h5\") # hdf5\n",
        "from google.colab import files\n",
        "files.download('mon_premier_cnn.h5')\n",
        "\n",
        "#keras.load_model(\"./chemin_vers_fichier\")# comment load un model entrainé"
      ],
      "metadata": {
        "colab": {
          "base_uri": "https://localhost:8080/",
          "height": 17
        },
        "id": "SrjoWTnxz997",
        "outputId": "31d2bf98-6e1a-465d-fef3-a790ea0b70fc"
      },
      "execution_count": null,
      "outputs": [
        {
          "output_type": "display_data",
          "data": {
            "text/plain": [
              "<IPython.core.display.Javascript object>"
            ],
            "application/javascript": [
              "\n",
              "    async function download(id, filename, size) {\n",
              "      if (!google.colab.kernel.accessAllowed) {\n",
              "        return;\n",
              "      }\n",
              "      const div = document.createElement('div');\n",
              "      const label = document.createElement('label');\n",
              "      label.textContent = `Downloading \"${filename}\": `;\n",
              "      div.appendChild(label);\n",
              "      const progress = document.createElement('progress');\n",
              "      progress.max = size;\n",
              "      div.appendChild(progress);\n",
              "      document.body.appendChild(div);\n",
              "\n",
              "      const buffers = [];\n",
              "      let downloaded = 0;\n",
              "\n",
              "      const channel = await google.colab.kernel.comms.open(id);\n",
              "      // Send a message to notify the kernel that we're ready.\n",
              "      channel.send({})\n",
              "\n",
              "      for await (const message of channel.messages) {\n",
              "        // Send a message to notify the kernel that we're ready.\n",
              "        channel.send({})\n",
              "        if (message.buffers) {\n",
              "          for (const buffer of message.buffers) {\n",
              "            buffers.push(buffer);\n",
              "            downloaded += buffer.byteLength;\n",
              "            progress.value = downloaded;\n",
              "          }\n",
              "        }\n",
              "      }\n",
              "      const blob = new Blob(buffers, {type: 'application/binary'});\n",
              "      const a = document.createElement('a');\n",
              "      a.href = window.URL.createObjectURL(blob);\n",
              "      a.download = filename;\n",
              "      div.appendChild(a);\n",
              "      a.click();\n",
              "      div.remove();\n",
              "    }\n",
              "  "
            ]
          },
          "metadata": {}
        },
        {
          "output_type": "display_data",
          "data": {
            "text/plain": [
              "<IPython.core.display.Javascript object>"
            ],
            "application/javascript": [
              "download(\"download_e0621893-b723-4df1-bfcf-9176a6a57fdc\", \"mon_premier_cnn.h5\", 718920)"
            ]
          },
          "metadata": {}
        }
      ]
    }
  ]
}